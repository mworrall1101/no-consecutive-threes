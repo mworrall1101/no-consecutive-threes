{
 "cells": [
  {
   "cell_type": "code",
   "execution_count": 1,
   "metadata": {
    "scrolled": true
   },
   "outputs": [
    {
     "name": "stdout",
     "output_type": "stream",
     "text": [
      "[1 1 1 1 1 1 1 1 1 1 1 1 1 1 1 1 1 1 1 1 1 1 1 1 1 1 1 1 1 1 1 1 1 1 1 1 1\n",
      " 1 1 1 2 2 2 2 2 2 2 2 2 2 2 2 2 2 2 2 2 2 2 2 3 3 3 3 3 3 3 3 3 3 3 3 3 3\n",
      " 3 3 3 3 3 3]\n"
     ]
    }
   ],
   "source": [
    "import numpy as np\n",
    "array = []\n",
    "\n",
    "# Build array\n",
    "for i in range(40):\n",
    "    array += [1]\n",
    "for i in range(20):\n",
    "    array += [2]\n",
    "for i in range(20):\n",
    "    array += [3]\n",
    "\n",
    "arr = np.asarray(array)\n",
    "print(arr)"
   ]
  },
  {
   "cell_type": "code",
   "execution_count": 2,
   "metadata": {},
   "outputs": [
    {
     "name": "stdout",
     "output_type": "stream",
     "text": [
      "[2 1 1 3 3 1 3 1 1 1 3 1 1 1 1 1 1 2 3 1 1 3 2 2 1 1 2 2 1 1 2 3 3 1 3 3 3\n",
      " 3 1 1 1 2 1 2 1 3 1 2 1 1 1 1 2 2 1 1 1 2 1 1 1 1 2 2 2 1 3 2 2 3 1 3 3 1\n",
      " 2 3 3 1 2 3]\n"
     ]
    }
   ],
   "source": [
    "rand_array = np.random.permutation(arr)\n",
    "print(rand_array)\n"
   ]
  },
  {
   "cell_type": "code",
   "execution_count": 3,
   "metadata": {},
   "outputs": [
    {
     "name": "stdout",
     "output_type": "stream",
     "text": [
      "j:  0\n",
      "57\n",
      "Not equal to 3\n",
      "Prev not equal to 3\n",
      "Found a candidate\n",
      "j:  0\n",
      "14\n",
      "Not equal to 3\n",
      "Prev not equal to 3\n",
      "Found a candidate\n",
      "j:  0\n",
      "4\n",
      "j:  1\n",
      "41\n",
      "Not equal to 3\n",
      "Prev not equal to 3\n",
      "Found a candidate\n",
      "j:  0\n",
      "3\n",
      "Not equal to 3\n",
      "Prev not equal to 3\n",
      "j:  1\n",
      "18\n",
      "j:  2\n",
      "11\n",
      "Not equal to 3\n",
      "j:  3\n",
      "78\n",
      "Not equal to 3\n",
      "Prev not equal to 3\n",
      "j:  4\n",
      "18\n",
      "j:  5\n",
      "11\n",
      "Not equal to 3\n",
      "j:  6\n",
      "3\n",
      "Not equal to 3\n",
      "Prev not equal to 3\n",
      "j:  7\n",
      "72\n",
      "j:  8\n",
      "41\n",
      "j:  9\n",
      "20\n",
      "Not equal to 3\n",
      "Prev not equal to 3\n",
      "j:  10\n",
      "22\n",
      "Not equal to 3\n",
      "j:  11\n",
      "37\n",
      "j:  12\n",
      "72\n",
      "j:  13\n",
      "43\n",
      "Not equal to 3\n",
      "Prev not equal to 3\n",
      "Found a candidate\n",
      "j:  0\n",
      "12\n",
      "Not equal to 3\n",
      "Prev not equal to 3\n",
      "Found a candidate\n",
      "j:  0\n",
      "75\n",
      "j:  1\n",
      "40\n",
      "Not equal to 3\n",
      "Prev not equal to 3\n",
      "j:  2\n",
      "45\n",
      "j:  3\n",
      "59\n",
      "Not equal to 3\n",
      "Prev not equal to 3\n",
      "Found a candidate\n",
      "j:  0\n",
      "51\n",
      "Not equal to 3\n",
      "Prev not equal to 3\n",
      "Found a candidate\n",
      "[2 1 1 2 3 1 3 1 1 1 3 1 3 1 3 1 1 2 3 1 1 3 2 2 1 1 2 2 1 1 2 1 3 1 2 2 1\n",
      " 3 1 1 1 3 1 3 1 3 1 2 1 1 1 3 2 2 1 1 1 3 1 3 1 1 2 2 2 1 3 2 2 3 1 1 3 1\n",
      " 2 1 3 1 2 3]\n"
     ]
    }
   ],
   "source": [
    "for i in range(len(rand_array) - 1):\n",
    "    if rand_array[i] == 3:\n",
    "        if rand_array[i+1] == 3: # Found two 3s in a row\n",
    "           \n",
    "            found_swap = False   # Flag to determine when to stop\n",
    "            j = 0\n",
    "            \n",
    "            while(found_swap == False):  \n",
    "                rand_val =  np.random.randint(0,80)  # Get a random index to check\n",
    "                print(\"j: \", j)\n",
    "                print(rand_val)\n",
    "                \n",
    "                # Check that random index to ensure that it as well as its neighbors are not 3\n",
    "                if rand_array[rand_val] != 3: \n",
    "                    print(\"Not equal to 3\")\n",
    "                    \n",
    "                    if rand_array[rand_val - 1] != 3:\n",
    "                        print(\"Prev not equal to 3\")\n",
    "                        \n",
    "                        if rand_val < (len(rand_array) - 1):\n",
    "                            if rand_array[rand_val + 1] != 3:\n",
    "                                print(\"Found a candidate\")\n",
    "                                # Swap\n",
    "                                temp = rand_array[rand_val]\n",
    "                                rand_array[rand_val] = rand_array[i]\n",
    "                                rand_array[i] = temp\n",
    "                                found_swap = True\n",
    "                        else:\n",
    "                            print(\"Last value was a candidate\")\n",
    "                            # Value is the last in the array so swap\n",
    "                            temp = rand_array[rand_val]\n",
    "                            rand_array[rand_val] = rand_array[i]\n",
    "                            rand_array[i] = temp\n",
    "                            found_swap = True\n",
    "                 \n",
    "                j = j + 1   \n",
    "                        \n",
    "print(rand_array)"
   ]
  },
  {
   "cell_type": "code",
   "execution_count": null,
   "metadata": {},
   "outputs": [],
   "source": []
  },
  {
   "cell_type": "code",
   "execution_count": null,
   "metadata": {},
   "outputs": [],
   "source": []
  }
 ],
 "metadata": {
  "kernelspec": {
   "display_name": "Python 3",
   "language": "python",
   "name": "python3"
  },
  "language_info": {
   "codemirror_mode": {
    "name": "ipython",
    "version": 3
   },
   "file_extension": ".py",
   "mimetype": "text/x-python",
   "name": "python",
   "nbconvert_exporter": "python",
   "pygments_lexer": "ipython3",
   "version": "3.7.1"
  }
 },
 "nbformat": 4,
 "nbformat_minor": 2
}
